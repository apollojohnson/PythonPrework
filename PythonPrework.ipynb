{
 "cells": [
  {
   "cell_type": "markdown",
   "metadata": {},
   "source": [
    "Question 1: Write a function to print \"hello_USERNAME!\" USERNAME is the input of the function."
   ]
  },
  {
   "cell_type": "code",
   "execution_count": 70,
   "metadata": {},
   "outputs": [
    {
     "name": "stdout",
     "output_type": "stream",
     "text": [
      "What is your username?apollojj\n",
      "Hello, apollojj!\n"
     ]
    }
   ],
   "source": [
    "def hello_name(user_name):\n",
    "    user_name = print(\"Hello, \"+(input(\"What is your username?\"))+\"!\")\n",
    "    \n",
    "hello_name(user_name)"
   ]
  },
  {
   "cell_type": "markdown",
   "metadata": {},
   "source": [
    "Question 2: Print odd numbers, 1-100."
   ]
  },
  {
   "cell_type": "code",
   "execution_count": 2,
   "metadata": {},
   "outputs": [
    {
     "name": "stdout",
     "output_type": "stream",
     "text": [
      "1 3 5 7 9 11 13 15 17 19 21 23 25 27 29 31 33 35 37 39 41 43 45 47 49 51 53 55 57 59 61 63 65 67 69 71 73 75 77 79 81 83 85 87 89 91 93 95 97 99 "
     ]
    }
   ],
   "source": [
    "for num in range(1, 100):\n",
    "    if num % 2 != 0:\n",
    "        print(num, end = \" \")\n",
    "        "
   ]
  },
  {
   "cell_type": "markdown",
   "metadata": {},
   "source": [
    "Question 3: Write a Python function, max_num_in_list to return the max number of a given list. "
   ]
  },
  {
   "cell_type": "code",
   "execution_count": 58,
   "metadata": {},
   "outputs": [
    {
     "name": "stdout",
     "output_type": "stream",
     "text": [
      "Max number is:  5\n"
     ]
    }
   ],
   "source": [
    "a_list = [1, 2, 3, 4, 5]\n",
    "def max_num_in_list(a_list):\n",
    "     print(\"Max number is: \", max(a_list))\n",
    "    \n",
    "max_num_in_list(a_list)"
   ]
  },
  {
   "cell_type": "markdown",
   "metadata": {},
   "source": [
    "Question 4: Write a function to return if the given year is a leap year. A leap year is divisible by 4, but not divisible by 100, unless it is also divisible by 400."
   ]
  },
  {
   "cell_type": "code",
   "execution_count": 85,
   "metadata": {},
   "outputs": [
    {
     "name": "stdout",
     "output_type": "stream",
     "text": [
      "Enter the year: 2021\n",
      "That year is NOT a leap year!\n"
     ]
    }
   ],
   "source": [
    "a_year=int(input(\"Enter the year: \"))\n",
    "def is_leap_year(a_year):\n",
    "    if (a_year%4)==0:\n",
    "        if (a_year%100)==0:\n",
    "            if (a_year%400)==0:\n",
    "                print(\"That year is a leap year!\".format(a_year))\n",
    "            else:\n",
    "                print(\"That year is NOT a leap year!\".format(a_year))\n",
    "        else:\n",
    "            print(\"That year is NOT a leap year!\".format(a_year))\n",
    "    else:\n",
    "        print(\"That year is NOT a leap year!\".format(a_year))\n",
    "\n",
    "is_leap_year(a_year)"
   ]
  },
  {
   "cell_type": "markdown",
   "metadata": {},
   "source": [
    "Question 5: Write a function to check to see if all numbers in list are consecutive numbers. For example, [2,3,4,5,6,7] are consecutive numbers, but [1,2,4,5] are not consecutive numbers."
   ]
  },
  {
   "cell_type": "code",
   "execution_count": 83,
   "metadata": {},
   "outputs": [
    {
     "data": {
      "text/plain": [
       "True"
      ]
     },
     "execution_count": 83,
     "metadata": {},
     "output_type": "execute_result"
    }
   ],
   "source": [
    "list2=[6,7,8,9]\n",
    "def is_consecutive(list2):\n",
    "    if len(set(list2)) == len(list2) and max(list2) - min(list2) == len(list2) - 1:\n",
    "        return True\n",
    "    else:\n",
    "        return False\n",
    "\n",
    "is_consecutive(list2)"
   ]
  }
 ],
 "metadata": {
  "kernelspec": {
   "display_name": "Python 3",
   "language": "python",
   "name": "python3"
  },
  "language_info": {
   "codemirror_mode": {
    "name": "ipython",
    "version": 3
   },
   "file_extension": ".py",
   "mimetype": "text/x-python",
   "name": "python",
   "nbconvert_exporter": "python",
   "pygments_lexer": "ipython3",
   "version": "3.8.5"
  }
 },
 "nbformat": 4,
 "nbformat_minor": 4
}
